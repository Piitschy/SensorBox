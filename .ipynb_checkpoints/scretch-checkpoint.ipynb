{
 "cells": [
  {
   "cell_type": "code",
   "execution_count": null,
   "id": "ddec612b",
   "metadata": {},
   "outputs": [],
   "source": [
    "import sys\n",
    "import numpy as np\n",
    "import socket\n",
    "import struct\n",
    "from typing import Tuple, List\n",
    "import usb.core"
   ]
  },
  {
   "cell_type": "code",
   "execution_count": 2,
   "id": "b6e5375b",
   "metadata": {},
   "outputs": [],
   "source": [
    "A=b'\\x01'\n",
    "B=b'\\x81'\n",
    "\n",
    "C=A+B\n",
    "print(C)"
   ]
  },
  {
   "cell_type": "code",
   "execution_count": null,
   "id": "7c83a204",
   "metadata": {},
   "outputs": [],
   "source": []
  }
 ],
 "metadata": {
  "kernelspec": {
   "display_name": "Python 3",
   "language": "python",
   "name": "python3"
  },
  "language_info": {
   "codemirror_mode": {
    "name": "ipython",
    "version": 3
   },
   "file_extension": ".py",
   "mimetype": "text/x-python",
   "name": "python",
   "nbconvert_exporter": "python",
   "pygments_lexer": "ipython3",
   "version": "3.9.7"
  }
 },
 "nbformat": 4,
 "nbformat_minor": 5
}
